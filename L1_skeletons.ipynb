{
  "nbformat": 4,
  "nbformat_minor": 0,
  "metadata": {
    "colab": {
      "provenance": []
    },
    "kernelspec": {
      "name": "python3",
      "display_name": "Python 3"
    },
    "language_info": {
      "name": "python"
    }
  },
  "cells": [
    {
      "cell_type": "markdown",
      "source": [
        "# Analysis of the Results File: L1_intensities Obtained via Tierpsy Tracker"
      ],
      "metadata": {
        "id": "mJ0cvs4-1Tx-"
      }
    },
    {
      "cell_type": "markdown",
      "source": [
        "Drive connection"
      ],
      "metadata": {
        "id": "r-sUdzYd1WB7"
      }
    },
    {
      "cell_type": "code",
      "source": [
        "from google.colab import drive\n",
        "drive.mount('/content/drive')"
      ],
      "metadata": {
        "colab": {
          "base_uri": "https://localhost:8080/"
        },
        "id": "TBwaBQyl1ZZO",
        "outputId": "f1d9cff1-cafc-418f-9d1a-0b2c5fcbbd82"
      },
      "execution_count": 1,
      "outputs": [
        {
          "output_type": "stream",
          "name": "stdout",
          "text": [
            "Mounted at /content/drive\n"
          ]
        }
      ]
    },
    {
      "cell_type": "markdown",
      "source": [
        "Libraries"
      ],
      "metadata": {
        "id": "6dejoB_01hGC"
      }
    },
    {
      "cell_type": "code",
      "source": [
        "import h5py\n",
        "import os\n",
        "import pandas as pd\n",
        "import numpy as np"
      ],
      "metadata": {
        "id": "q2Dx2M-U1jWr"
      },
      "execution_count": 2,
      "outputs": []
    },
    {
      "cell_type": "markdown",
      "source": [
        "Inspecting file content"
      ],
      "metadata": {
        "id": "00-qvt201lZi"
      }
    },
    {
      "cell_type": "code",
      "source": [
        "def inspect_hdf5_datasets(file_path):\n",
        "    \"\"\"\n",
        "    Inspects an HDF5 file and prints the names and sizes of its datasets.\n",
        "\n",
        "    Args:\n",
        "        file_path (str): The path to the HDF5 file.\n",
        "    \"\"\"\n",
        "    print(f\"\\n{'='*30}\")\n",
        "    print(f\"Inspecting file: {file_path}\")\n",
        "    print(f\"{'='*30}\")\n",
        "    try:\n",
        "        if not os.path.exists(file_path):\n",
        "            print(f\"Error: The file '{file_path}' was not found.\")\n",
        "            return  # Exit the function if the file doesn't exist\n",
        "\n",
        "        with h5py.File(file_path, 'r') as hdfid:\n",
        "            datasets_info = {}\n",
        "            for name, obj in hdfid.items():\n",
        "                if isinstance(obj, h5py.Dataset):\n",
        "                    datasets_info[name] = obj.size\n",
        "\n",
        "            if datasets_info:\n",
        "                print(\"Datasets found and their sizes:\")\n",
        "                for name, size in datasets_info.items():\n",
        "                    print(f\"  Dataset: {name}, Size: {size} elements\")\n",
        "            else:\n",
        "                print(\"No top-level datasets were found in this file.\")\n",
        "\n",
        "    except Exception as e:\n",
        "        print(f\"An error occurred while processing the file '{file_path}': {e}\")\n",
        "\n",
        "# Define the file path you want to analyze here.  REPLACE THIS!\n",
        "file_to_analyze = '/content/drive/MyDrive/Worms/Resultados/L1/L1_skeletons/L1_skeletons.hdf5'  # <--- REPLACE THIS LINE\n",
        "\n",
        "inspect_hdf5_datasets(file_to_analyze)"
      ],
      "metadata": {
        "colab": {
          "base_uri": "https://localhost:8080/"
        },
        "id": "8T9x75YW1nZ7",
        "outputId": "5683de04-d830-4dbd-873d-fec4f286c7f4"
      },
      "execution_count": 3,
      "outputs": [
        {
          "output_type": "stream",
          "name": "stdout",
          "text": [
            "\n",
            "==============================\n",
            "Inspecting file: /content/drive/MyDrive/Worms/Resultados/L1/L1_skeletons/L1_skeletons.hdf5\n",
            "==============================\n",
            "Datasets found and their sizes:\n",
            "  Dataset: blob_features, Size: 21223 elements\n",
            "  Dataset: contour_area, Size: 21223 elements\n",
            "  Dataset: contour_side1, Size: 2079854 elements\n",
            "  Dataset: contour_side1_length, Size: 21223 elements\n",
            "  Dataset: contour_side2, Size: 2079854 elements\n",
            "  Dataset: contour_side2_length, Size: 21223 elements\n",
            "  Dataset: contour_width, Size: 1039927 elements\n",
            "  Dataset: plate_worms, Size: 24341 elements\n",
            "  Dataset: skeleton, Size: 2079854 elements\n",
            "  Dataset: skeleton_length, Size: 21223 elements\n",
            "  Dataset: trajectories_data, Size: 21223 elements\n",
            "  Dataset: width_midbody, Size: 21223 elements\n"
          ]
        }
      ]
    },
    {
      "cell_type": "markdown",
      "source": [
        "Exporting the datasets to individuals CSV files"
      ],
      "metadata": {
        "id": "DUmTwgR31xLS"
      }
    },
    {
      "cell_type": "code",
      "source": [
        "def export_hdf5_datasets_to_csv(file_path, output_dir):\n",
        "    \"\"\"\n",
        "    Exports all datasets from an HDF5 file to individual CSV files.\n",
        "\n",
        "    Args:\n",
        "        file_path (str): The path to the HDF5 file.\n",
        "        output_dir (str): The path to the directory where the CSV files will be saved.\n",
        "    \"\"\"\n",
        "    print(f\"\\n{'='*30}\")\n",
        "    print(f\"Exporting all datasets from: {file_path}\")\n",
        "    print(f\"CSV files will be saved in: {output_dir}\")\n",
        "    print(f\"{'='*30}\")\n",
        "\n",
        "    try:\n",
        "        if not os.path.exists(file_path):\n",
        "            print(f\"Error: The file '{file_path}' was not found.\")\n",
        "            return\n",
        "\n",
        "        # Create the output directory if it doesn't exist\n",
        "        os.makedirs(output_dir, exist_ok=True)\n",
        "\n",
        "        with h5py.File(file_path, 'r') as hdf_file:\n",
        "            for dataset_name in hdf_file:\n",
        "                if isinstance(hdf_file[dataset_name], h5py.Dataset):\n",
        "                    print(f\"\\nProcessing dataset: {dataset_name}\")\n",
        "                    dataset = hdf_file[dataset_name]\n",
        "                    data = dataset[:]  # Read all data\n",
        "\n",
        "                    # Convert to Pandas DataFrame\n",
        "                    df = pd.DataFrame(data)\n",
        "\n",
        "                    # Construct the CSV file path\n",
        "                    csv_file_path = os.path.join(output_dir, f\"{dataset_name}.csv\")\n",
        "\n",
        "                    # Export to CSV\n",
        "                    df.to_csv(csv_file_path, index=False)\n",
        "                    print(f\"Dataset '{dataset_name}' successfully exported to: {csv_file_path}\")\n",
        "                else:\n",
        "                    print(f\"Skipping: '{dataset_name}' is not a dataset.\")\n",
        "\n",
        "    except Exception as e:\n",
        "        print(f\"An error occurred: {e}\")\n",
        "\n",
        "    print(\"\\nData export process complete.\")\n",
        "\n",
        "\n",
        "\n",
        "if __name__ == \"__main__\":\n",
        "    # Example usage:  MODIFY THESE PATHS APPROPRIATELY\n",
        "    hdf5_file_path = '/content/drive/MyDrive/Worms/Resultados/L1/L1_skeletons/L1_skeletons.hdf5'  # <--- Replace with your HDF5 file path\n",
        "    csv_output_directory = '/content/drive/MyDrive/Worms/Resultados/L1/L1_skeletons/Datasets'  # <--- Replace with the desired output folder\n",
        "\n",
        "    export_hdf5_datasets_to_csv(hdf5_file_path, csv_output_directory)"
      ],
      "metadata": {
        "colab": {
          "base_uri": "https://localhost:8080/"
        },
        "id": "RBSY5cWU2GVa",
        "outputId": "b5778fa5-52dc-4c3d-b161-43964f3d0de7"
      },
      "execution_count": 7,
      "outputs": [
        {
          "output_type": "stream",
          "name": "stdout",
          "text": [
            "\n",
            "==============================\n",
            "Exporting all datasets from: /content/drive/MyDrive/Worms/Resultados/L1/L1_skeletons/L1_skeletons.hdf5\n",
            "CSV files will be saved in: /content/drive/MyDrive/Worms/Resultados/L1/L1_skeletons/Datasets\n",
            "==============================\n",
            "\n",
            "Processing dataset: blob_features\n",
            "Dataset 'blob_features' successfully exported to: /content/drive/MyDrive/Worms/Resultados/L1/L1_skeletons/Datasets/blob_features.csv\n",
            "\n",
            "Processing dataset: contour_area\n",
            "Dataset 'contour_area' successfully exported to: /content/drive/MyDrive/Worms/Resultados/L1/L1_skeletons/Datasets/contour_area.csv\n",
            "\n",
            "Processing dataset: contour_side1\n",
            "An error occurred: Must pass 2-d input. shape=(21223, 49, 2)\n",
            "\n",
            "Data export process complete.\n"
          ]
        }
      ]
    },
    {
      "cell_type": "markdown",
      "source": [
        "Reshaping the datasets into a 2D array for its correct extraction"
      ],
      "metadata": {
        "id": "1swtH_OM2tC6"
      }
    },
    {
      "cell_type": "code",
      "source": [
        "#Explanation:\n",
        "# Pandas DataFrames, which are used to create CSV files, require 2-dimensional data.\n",
        "# HDF5 datasets, however, can have any number of dimensions (1D, 2D, 3D, etc.).\n",
        "# When a dataset has more than 2 dimensions, we need to reshape it into a 2D\n",
        "# structure so that it can be stored in a DataFrame and then written to a CSV file."
      ],
      "metadata": {
        "id": "gYQSrkVK36DB"
      },
      "execution_count": 9,
      "outputs": []
    },
    {
      "cell_type": "code",
      "source": [
        "def export_hdf5_datasets_to_csv(file_path, output_dir):\n",
        "    \"\"\"\n",
        "    Exports all datasets from an HDF5 file to individual CSV files.\n",
        "    Handles datasets with more than 2 dimensions by reshaping them.\n",
        "\n",
        "    Args:\n",
        "        file_path (str): The path to the HDF5 file.\n",
        "        output_dir (str): The path to the directory where the CSV files will be saved.\n",
        "    \"\"\"\n",
        "    print(f\"\\n{'='*30}\")\n",
        "    print(f\"Exporting all datasets from: {file_path}\")\n",
        "    print(f\"CSV files will be saved in: {output_dir}\")\n",
        "    print(f\"{'='*30}\")\n",
        "\n",
        "    try:\n",
        "        if not os.path.exists(file_path):\n",
        "            print(f\"Error: The file '{file_path}' was not found.\")\n",
        "            return\n",
        "\n",
        "        # Create the output directory if it doesn't exist\n",
        "        os.makedirs(output_dir, exist_ok=True)\n",
        "\n",
        "        with h5py.File(file_path, 'r') as hdf_file:\n",
        "            for dataset_name, obj in hdf_file.items():\n",
        "                if isinstance(obj, h5py.Dataset):\n",
        "                    print(f\"\\nProcessing dataset: {dataset_name}\")\n",
        "                    data = obj[:]  # Read all data\n",
        "\n",
        "                    if len(data.shape) > 2:\n",
        "                        # Reshape the data to 2D\n",
        "                        original_shape = data.shape\n",
        "                        new_shape = (original_shape[0], np.prod(original_shape[1:]))\n",
        "                        data = data.reshape(new_shape)\n",
        "                        print(f\"  Reshaped dataset '{dataset_name}' from {original_shape} to {new_shape}\")\n",
        "\n",
        "                    # Convert the data to a Pandas DataFrame\n",
        "                    df = pd.DataFrame(data)\n",
        "\n",
        "                    # Construct the output CSV file path\n",
        "                    csv_file_path = os.path.join(output_dir, f\"{dataset_name}.csv\")\n",
        "\n",
        "                    # Save the DataFrame to a CSV file\n",
        "                    df.to_csv(csv_file_path, index=False)\n",
        "                    print(f\"  Dataset '{dataset_name}' successfully exported to: {csv_file_path}\")\n",
        "                else:\n",
        "                    print(f\"  Skipping non-dataset: {dataset_name}\")\n",
        "\n",
        "    except Exception as e:\n",
        "        print(f\"An error occurred: {e}\")\n",
        "\n",
        "    print(\"\\nData export process complete.\")\n",
        "\n",
        "\n",
        "\n",
        "if __name__ == \"__main__\":\n",
        "    # Example usage:  MODIFY THESE PATHS APPROPRIATELY\n",
        "    hdf5_file_path = '/content/drive/MyDrive/Worms/Resultados/L1/L1_skeletons/L1_skeletons.hdf5'  # <--- Replace with your HDF5 file path\n",
        "    csv_output_directory = '/content/drive/MyDrive/Worms/Resultados/L1/L1_skeletons/Datasets'  # <--- Replace with the desired output folder\n",
        "\n",
        "    export_hdf5_datasets_to_csv(hdf5_file_path, csv_output_directory)"
      ],
      "metadata": {
        "colab": {
          "base_uri": "https://localhost:8080/"
        },
        "id": "N_SKsazL2i57",
        "outputId": "be635495-1fe3-4d14-9953-96cb7e8a2c30"
      },
      "execution_count": 8,
      "outputs": [
        {
          "output_type": "stream",
          "name": "stdout",
          "text": [
            "\n",
            "==============================\n",
            "Exporting all datasets from: /content/drive/MyDrive/Worms/Resultados/L1/L1_skeletons/L1_skeletons.hdf5\n",
            "CSV files will be saved in: /content/drive/MyDrive/Worms/Resultados/L1/L1_skeletons/Datasets\n",
            "==============================\n",
            "\n",
            "Processing dataset: blob_features\n",
            "  Dataset 'blob_features' successfully exported to: /content/drive/MyDrive/Worms/Resultados/L1/L1_skeletons/Datasets/blob_features.csv\n",
            "\n",
            "Processing dataset: contour_area\n",
            "  Dataset 'contour_area' successfully exported to: /content/drive/MyDrive/Worms/Resultados/L1/L1_skeletons/Datasets/contour_area.csv\n",
            "\n",
            "Processing dataset: contour_side1\n",
            "  Reshaped dataset 'contour_side1' from (21223, 49, 2) to (21223, np.int64(98))\n",
            "  Dataset 'contour_side1' successfully exported to: /content/drive/MyDrive/Worms/Resultados/L1/L1_skeletons/Datasets/contour_side1.csv\n",
            "\n",
            "Processing dataset: contour_side1_length\n",
            "  Dataset 'contour_side1_length' successfully exported to: /content/drive/MyDrive/Worms/Resultados/L1/L1_skeletons/Datasets/contour_side1_length.csv\n",
            "\n",
            "Processing dataset: contour_side2\n",
            "  Reshaped dataset 'contour_side2' from (21223, 49, 2) to (21223, np.int64(98))\n",
            "  Dataset 'contour_side2' successfully exported to: /content/drive/MyDrive/Worms/Resultados/L1/L1_skeletons/Datasets/contour_side2.csv\n",
            "\n",
            "Processing dataset: contour_side2_length\n",
            "  Dataset 'contour_side2_length' successfully exported to: /content/drive/MyDrive/Worms/Resultados/L1/L1_skeletons/Datasets/contour_side2_length.csv\n",
            "\n",
            "Processing dataset: contour_width\n",
            "  Dataset 'contour_width' successfully exported to: /content/drive/MyDrive/Worms/Resultados/L1/L1_skeletons/Datasets/contour_width.csv\n",
            "  Skipping non-dataset: intensity_analysis\n",
            "\n",
            "Processing dataset: plate_worms\n",
            "  Dataset 'plate_worms' successfully exported to: /content/drive/MyDrive/Worms/Resultados/L1/L1_skeletons/Datasets/plate_worms.csv\n",
            "  Skipping non-dataset: provenance_tracking\n",
            "\n",
            "Processing dataset: skeleton\n",
            "  Reshaped dataset 'skeleton' from (21223, 49, 2) to (21223, np.int64(98))\n",
            "  Dataset 'skeleton' successfully exported to: /content/drive/MyDrive/Worms/Resultados/L1/L1_skeletons/Datasets/skeleton.csv\n",
            "\n",
            "Processing dataset: skeleton_length\n",
            "  Dataset 'skeleton_length' successfully exported to: /content/drive/MyDrive/Worms/Resultados/L1/L1_skeletons/Datasets/skeleton_length.csv\n",
            "  Skipping non-dataset: timestamp\n",
            "\n",
            "Processing dataset: trajectories_data\n",
            "  Dataset 'trajectories_data' successfully exported to: /content/drive/MyDrive/Worms/Resultados/L1/L1_skeletons/Datasets/trajectories_data.csv\n",
            "\n",
            "Processing dataset: width_midbody\n",
            "  Dataset 'width_midbody' successfully exported to: /content/drive/MyDrive/Worms/Resultados/L1/L1_skeletons/Datasets/width_midbody.csv\n",
            "\n",
            "Data export process complete.\n"
          ]
        }
      ]
    }
  ]
}